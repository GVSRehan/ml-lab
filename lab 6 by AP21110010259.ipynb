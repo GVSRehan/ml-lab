{
 "cells": [
  {
   "cell_type": "code",
   "execution_count": 3,
   "id": "0da7a724-6898-4085-bf93-cb9b18a561e7",
   "metadata": {},
   "outputs": [],
   "source": [
    "#AP21110010259\n",
    "#G.Rehan\n",
    "\n",
    "# 1. Implement Decision Tree Classifier for classification of Iris dataset\n",
    "# a. Load the data set\n",
    "# b. Split the data set to train and test sets\n",
    "# c. Train a Decision Tree using train set\n",
    "# d. Test the model using test set. Find accuracy and confusion Matrix.\n",
    "\n",
    "import pandas as pd\n",
    "\n",
    "# Set the file path to the Iris dataset on the desktop\n",
    "iris_data_path = \"iris.csv\"  # Replace this with the actual file path\n",
    "\n",
    "# Load the Iris dataset from CSV\n",
    "iris_df = pd.read_csv(iris_data_path)\n",
    "from sklearn.model_selection import train_test_split\n",
    "from sklearn.tree import DecisionTreeClassifier\n",
    "from sklearn.metrics import accuracy_score, confusion_matrix\n",
    "import pandas as pd\n",
    "\n",
    "# Set the file path to the Iris dataset on the desktop\n",
    "iris_data_path = \"iris.csv\"  # Replace this with the actual file path\n",
    "\n",
    "# Load the Iris dataset from CSV\n",
    "iris_df = pd.read_csv(iris_data_path)"
   ]
  },
  {
   "cell_type": "code",
   "execution_count": 4,
   "id": "efcd8e77-3d43-4d5b-8596-b378a79b18e2",
   "metadata": {},
   "outputs": [],
   "source": [
    "# Split features and target\n",
    "X = iris_df.drop('Species', axis=1)\n",
    "y = iris_df['Species']\n",
    "\n",
    "# Split the dataset into train and test sets\n",
    "X_train, X_test, y_train, y_test = train_test_split(X, y, test_size=0.2, random_state=42)"
   ]
  },
  {
   "cell_type": "code",
   "execution_count": 5,
   "id": "43f5cb87-ba9f-4c4d-b9c6-a2fe25b5387c",
   "metadata": {},
   "outputs": [
    {
     "name": "stdout",
     "output_type": "stream",
     "text": [
      "Accuracy: 1.0\n",
      "\n",
      "Confusion Matrix:\n",
      "            setosa  versicolor  virginica\n",
      "setosa          10           0          0\n",
      "versicolor       0           9          0\n",
      "virginica        0           0         11\n",
      "DataFrame Head:\n",
      "   Sepal.Length  Sepal.Width  Petal.Length  Petal.Width Species\n",
      "0           5.1          3.5           1.4          0.2  setosa\n",
      "1           4.9          3.0           1.4          0.2  setosa\n",
      "2           4.7          3.2           1.3          0.2  setosa\n",
      "3           4.6          3.1           1.5          0.2  setosa\n",
      "4           5.0          3.6           1.4          0.2  setosa\n",
      "\n",
      "Columns: Index(['Sepal.Length', 'Sepal.Width', 'Petal.Length', 'Petal.Width',\n",
      "       'Species'],\n",
      "      dtype='object')\n"
     ]
    }
   ],
   "source": [
    "# Train a Decision Tree classifier\n",
    "clf = DecisionTreeClassifier()\n",
    "clf.fit(X_train, y_train)\n",
    "\n",
    "# Test the model\n",
    "y_pred = clf.predict(X_test)\n",
    "\n",
    "# Calculate accuracy\n",
    "accuracy = accuracy_score(y_test, y_pred)\n",
    "print(\"Accuracy:\", accuracy)\n",
    "\n",
    "# Calculate confusion matrix\n",
    "conf_matrix = confusion_matrix(y_test, y_pred)\n",
    "conf_matrix_df = pd.DataFrame(conf_matrix, columns=iris_df['Species'].unique(), index=iris_df['Species'].unique())\n",
    "print(\"\\nConfusion Matrix:\")\n",
    "print(conf_matrix_df)\n",
    "\n",
    "# Print the first few rows and column names of the DataFrame\n",
    "print(\"DataFrame Head:\")\n",
    "print(iris_df.head())\n",
    "print(\"\\nColumns:\", iris_df.columns)"
   ]
  },
  {
   "cell_type": "code",
   "execution_count": null,
   "id": "1e15d301-312e-464e-b207-9ecd892dc37a",
   "metadata": {},
   "outputs": [],
   "source": []
  }
 ],
 "metadata": {
  "kernelspec": {
   "display_name": "Python 3 (ipykernel)",
   "language": "python",
   "name": "python3"
  },
  "language_info": {
   "codemirror_mode": {
    "name": "ipython",
    "version": 3
   },
   "file_extension": ".py",
   "mimetype": "text/x-python",
   "name": "python",
   "nbconvert_exporter": "python",
   "pygments_lexer": "ipython3",
   "version": "3.11.7"
  }
 },
 "nbformat": 4,
 "nbformat_minor": 5
}
